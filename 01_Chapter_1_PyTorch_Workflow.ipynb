{
  "nbformat": 4,
  "nbformat_minor": 0,
  "metadata": {
    "colab": {
      "provenance": []
    },
    "kernelspec": {
      "name": "python3",
      "display_name": "Python 3"
    },
    "language_info": {
      "name": "python"
    }
  },
  "cells": [
    {
      "cell_type": "markdown",
      "source": [
        "# PyTorch Workflow\n"
      ],
      "metadata": {
        "id": "44pH7PWxjWx4"
      }
    },
    {
      "cell_type": "markdown",
      "source": [
        "what_were_covering = {1: \"data (prepare and load)\",\n",
        "                      2: \"build model\",\n",
        "                      3: \"fitting the model to data(training)\",\n",
        "                      4: \"making predictions and evaluting a model(inference)\",\n",
        "                      5: \"putting it all together\"}"
      ],
      "metadata": {
        "id": "VryU6bc-leUo"
      }
    },
    {
      "cell_type": "code",
      "source": [
        "import torch\n",
        "from torch import nn # nn contains all of PyTorch's building blocks\n",
        "import matplotlib.pyplot as plt\n",
        "\n",
        "#Check PyTorch version\n",
        "torch.__version__"
      ],
      "metadata": {
        "colab": {
          "base_uri": "https://localhost:8080/",
          "height": 35
        },
        "id": "DBj6DcFvleR0",
        "outputId": "73d4277c-18f8-4970-ffa7-15fea61abde5"
      },
      "execution_count": null,
      "outputs": [
        {
          "output_type": "execute_result",
          "data": {
            "text/plain": [
              "'1.13.0+cu116'"
            ],
            "application/vnd.google.colaboratory.intrinsic+json": {
              "type": "string"
            }
          },
          "metadata": {},
          "execution_count": 48
        }
      ]
    },
    {
      "cell_type": "markdown",
      "source": [
        "## 1. Data (preparing and loading)\n",
        "Data can be almost anything ... in machine learning\n",
        "\n",
        "ML is a game of two parts:\n",
        "1. get data into a numerical representation\n",
        "2. build a model to learn patterns in that numerical representation\n",
        "\n",
        "We will use a linear regression formula to make a straight line with known **parameters**.\n"
      ],
      "metadata": {
        "id": "n_GNXuhulePK"
      }
    },
    {
      "cell_type": "code",
      "source": [
        "# Create *known* parameters\n",
        "weight =0.7\n",
        "bias =0.3"
      ],
      "metadata": {
        "id": "-pZrmsbDleMd"
      },
      "execution_count": null,
      "outputs": []
    },
    {
      "cell_type": "code",
      "source": [
        "# Create \n",
        "start =0\n",
        "end=1\n",
        "step =0.02\n",
        "X = torch.arange(start,end,step).unsqueeze(dim=1)\n",
        "y = weight * X +bias"
      ],
      "metadata": {
        "id": "qFWjO6PrleJt"
      },
      "execution_count": null,
      "outputs": []
    },
    {
      "cell_type": "code",
      "source": [
        "X[:10],y[:10],len(X),len(y)"
      ],
      "metadata": {
        "colab": {
          "base_uri": "https://localhost:8080/"
        },
        "id": "UpB37k9CleBz",
        "outputId": "6ace77c0-cd91-4e76-8bf8-80896536ca6e"
      },
      "execution_count": null,
      "outputs": [
        {
          "output_type": "execute_result",
          "data": {
            "text/plain": [
              "(tensor([[0.0000],\n",
              "         [0.0200],\n",
              "         [0.0400],\n",
              "         [0.0600],\n",
              "         [0.0800],\n",
              "         [0.1000],\n",
              "         [0.1200],\n",
              "         [0.1400],\n",
              "         [0.1600],\n",
              "         [0.1800]]), tensor([[0.3000],\n",
              "         [0.3140],\n",
              "         [0.3280],\n",
              "         [0.3420],\n",
              "         [0.3560],\n",
              "         [0.3700],\n",
              "         [0.3840],\n",
              "         [0.3980],\n",
              "         [0.4120],\n",
              "         [0.4260]]), 50, 50)"
            ]
          },
          "metadata": {},
          "execution_count": 51
        }
      ]
    },
    {
      "cell_type": "markdown",
      "source": [
        "### Split data into training and test sets\n",
        "\n"
      ],
      "metadata": {
        "id": "0Foi4eAIrKVE"
      }
    },
    {
      "cell_type": "code",
      "source": [
        "# Create a train/test split\n",
        "train_split = int(0.8* len(X))\n",
        "X_train,y_train = X[:train_split],y[:train_split]\n",
        "X_test,y_test = X[train_split:], y[train_split:]\n",
        "\n",
        "len(X_train),len(y_train)"
      ],
      "metadata": {
        "colab": {
          "base_uri": "https://localhost:8080/"
        },
        "id": "ja-JjSfWtiqg",
        "outputId": "02db71bd-d889-4dea-93f0-280e961148cc"
      },
      "execution_count": null,
      "outputs": [
        {
          "output_type": "execute_result",
          "data": {
            "text/plain": [
              "(40, 40)"
            ]
          },
          "metadata": {},
          "execution_count": 52
        }
      ]
    },
    {
      "cell_type": "code",
      "source": [
        "# Build a function to visualize the data\n",
        "def plot_predictions(train_data =X_train, train_labels=y_train, test_data =X_test, test_labels =y_test, predictions=None):\n",
        "  \"\"\"\n",
        "  Plot training data,test data and compare predictions\n",
        "  \"\"\"\n",
        "  plt.figure(figsize = (10,7))\n",
        "\n",
        "  #Plot training data in blud\n",
        "  plt.scatter(train_data,train_labels,c='b',s=4,label ='Training data')\n",
        "  \n",
        "  #Plot test data in green\n",
        "  plt.scatter(test_data,test_labels,c='g',s=4,label = \"Testing data\")\n",
        "\n",
        "  # Are there predictions?\n",
        "  if predictions is not None:\n",
        "    #Plot the predictions if they exist\n",
        "    plt.scatter(test_data,predictions, c='r',s=4, label=\"predictions\")\n",
        "\n",
        "  #Show the legend\n",
        "    plt.legend(prop = {\"size\":14})"
      ],
      "metadata": {
        "id": "gmY2VJ1GuGru"
      },
      "execution_count": null,
      "outputs": []
    },
    {
      "cell_type": "code",
      "source": [
        "plot_predictions()"
      ],
      "metadata": {
        "colab": {
          "base_uri": "https://localhost:8080/",
          "height": 428
        },
        "id": "CBgPqBPiuKdg",
        "outputId": "94a2dcc0-921b-4d84-b820-e6009532b4ab"
      },
      "execution_count": null,
      "outputs": [
        {
          "output_type": "display_data",
          "data": {
            "text/plain": [
              "<Figure size 720x504 with 1 Axes>"
            ],
            "image/png": "[encoded data removed]"
          },
          "metadata": {
            "needs_background": "light"
          }
        }
      ]
    },
    {
      "cell_type": "markdown",
      "source": [
        "## 2. Build model\n",
        "our first PyTorch model!\n",
        "we are going to be building classes throughout the course, I'd recommend getting farmiliar with OOP with Python in following resources from Real Python.\n",
        "\n",
        "What our model does:\n",
        "* Start with random values(weight & bias)\n",
        "* Look at training data and adjust the random values to better represent (or get closer to) the idea values ( the weight & bias values we used to create the data)\n",
        "\n",
        "How does it do so?\n",
        "\n",
        "Through two main algorithms:\n",
        "1. Gradient descent\n",
        "2. Backpropagation"
      ],
      "metadata": {
        "id": "7bS9eO_6uKag"
      }
    },
    {
      "cell_type": "code",
      "source": [
        "from torch import nn\n",
        "# Create a linear regression model class\n",
        "class LinearRegressionModel(nn.Module): # <- almost everything in PyTorch inherihits from nn.Module\n",
        "  def __init__(self):\n",
        "    super().__init__()\n",
        "    self.weight=nn.Parameter(torch.rand(1,\n",
        "                                         requires_grad=True,\n",
        "                                         dtype=torch.float))\n",
        "    self.bias = nn.Parameter(torch.rand(1,\n",
        "                                        requires_grad = True,\n",
        "                                        dtype = torch.float))\n",
        "  #Forward method to define the computation in the model\n",
        "  def forward(self,x:torch.Tensor)-> torch.Tensor: #<---\"x\" is the input data\n",
        "    return self.weight*x + self.bias # this is the linear regression formula\n",
        "\n"
      ],
      "metadata": {
        "id": "P560JgGcuKXg"
      },
      "execution_count": null,
      "outputs": []
    },
    {
      "cell_type": "markdown",
      "source": [
        "### PyTorch model building essentials\n",
        "\n",
        "* torch.nn - contains all of the buildings for computational graphs( a neural network can be considered as computaitonal graph)\n",
        "* torch.nn.Parameter - shows our model try and learn, often a PyTorch layer from torch.nn will set these for us\n",
        "* torch.cc.Model - -The base class for all neural network modules, if you subclass it, you should overwrite forward()\n",
        "* torch.optim - this where the optimizers in PyTorch live, they will help with gradient descent\n",
        "* def forward() -  ALl nn.Model subclass require you to overwrite forward(), this method defines what happens in the forward computation."
      ],
      "metadata": {
        "id": "6z8hYR4guKU0"
      }
    },
    {
      "cell_type": "markdown",
      "source": [
        "### Checking out the internals of our model.\n",
        "\n",
        "Now we've created the model but whatis inside...\n",
        "\n",
        "So we can check our model parameter or what's inside our model using .parameters()."
      ],
      "metadata": {
        "id": "t8w4aRYeuKSL"
      }
    },
    {
      "cell_type": "code",
      "source": [
        "from torch.random import manual_seed\n",
        "# Create a random seed\n",
        "torch,manual_seed(66)\n",
        "\n",
        "#Create an instance of the model (this is a subclass of nn.Model)\n",
        "model_0 = LinearRegressionModel()\n",
        "# Check out the parameters\n",
        "list(model_0.parameters())"
      ],
      "metadata": {
        "id": "GxDSI4YDuKPy",
        "colab": {
          "base_uri": "https://localhost:8080/"
        },
        "outputId": "42522acf-38a0-4166-b29f-fdd612baa93d"
      },
      "execution_count": null,
      "outputs": [
        {
          "output_type": "execute_result",
          "data": {
            "text/plain": [
              "[Parameter containing:\n",
              " tensor([0.4976], requires_grad=True), Parameter containing:\n",
              " tensor([0.0230], requires_grad=True)]"
            ]
          },
          "metadata": {},
          "execution_count": 56
        }
      ]
    },
    {
      "cell_type": "code",
      "source": [
        "# List named parameters\n",
        "\n",
        "model_0.state_dict()"
      ],
      "metadata": {
        "id": "LaL82cqWuKNO",
        "colab": {
          "base_uri": "https://localhost:8080/"
        },
        "outputId": "c9decd8e-c09a-47ce-c2e9-6b4c117faa31"
      },
      "execution_count": null,
      "outputs": [
        {
          "output_type": "execute_result",
          "data": {
            "text/plain": [
              "OrderedDict([('weight', tensor([0.4976])), ('bias', tensor([0.0230]))])"
            ]
          },
          "metadata": {},
          "execution_count": 57
        }
      ]
    },
    {
      "cell_type": "markdown",
      "source": [
        "### Making prediction using  'torch.inference_mode()'\n",
        "\n",
        "To check our model's predictive power, let's see how well it predicts 'y_test\" based on  'X-test'\n",
        "\n",
        "When we pass data through our model, it's going to run it through the forward() method\n"
      ],
      "metadata": {
        "id": "S3p0oWlXuKKK"
      }
    },
    {
      "cell_type": "code",
      "source": [
        "y_preds = model_0(X_test)\n",
        "y_preds"
      ],
      "metadata": {
        "colab": {
          "base_uri": "https://localhost:8080/"
        },
        "id": "PLDbF9V-QNgD",
        "outputId": "59054afe-4830-47f6-cb99-6a725b55974f"
      },
      "execution_count": null,
      "outputs": [
        {
          "output_type": "execute_result",
          "data": {
            "text/plain": [
              "tensor([[0.4211],\n",
              "        [0.4310],\n",
              "        [0.4410],\n",
              "        [0.4510],\n",
              "        [0.4609],\n",
              "        [0.4709],\n",
              "        [0.4808],\n",
              "        [0.4908],\n",
              "        [0.5007],\n",
              "        [0.5107]], grad_fn=<AddBackward0>)"
            ]
          },
          "metadata": {},
          "execution_count": 58
        }
      ]
    },
    {
      "cell_type": "code",
      "source": [
        "# Make prediction with model\n",
        "with torch.inference_mode():\n",
        "  y_preds = model_0(X_test)\n",
        "# You can also do something similar with torch.no_grad(), how ever torch.inference_mode() is preferred\n",
        "with torch.no_grad():\n",
        "  y_preds = model_0(X_test)\n",
        "\n",
        "y_preds"
      ],
      "metadata": {
        "id": "V6OIGhyruKHH",
        "colab": {
          "base_uri": "https://localhost:8080/"
        },
        "outputId": "aacbb08d-f4d4-4600-858f-de6c8133dcb3"
      },
      "execution_count": null,
      "outputs": [
        {
          "output_type": "execute_result",
          "data": {
            "text/plain": [
              "tensor([[0.4211],\n",
              "        [0.4310],\n",
              "        [0.4410],\n",
              "        [0.4510],\n",
              "        [0.4609],\n",
              "        [0.4709],\n",
              "        [0.4808],\n",
              "        [0.4908],\n",
              "        [0.5007],\n",
              "        [0.5107]])"
            ]
          },
          "metadata": {},
          "execution_count": 59
        }
      ]
    },
    {
      "cell_type": "code",
      "source": [
        "y_test"
      ],
      "metadata": {
        "id": "q9JhtjJ0uKEb",
        "colab": {
          "base_uri": "https://localhost:8080/"
        },
        "outputId": "b84a3e3e-74a4-4503-f96d-7b28f7a72825"
      },
      "execution_count": null,
      "outputs": [
        {
          "output_type": "execute_result",
          "data": {
            "text/plain": [
              "tensor([[0.8600],\n",
              "        [0.8740],\n",
              "        [0.8880],\n",
              "        [0.9020],\n",
              "        [0.9160],\n",
              "        [0.9300],\n",
              "        [0.9440],\n",
              "        [0.9580],\n",
              "        [0.9720],\n",
              "        [0.9860]])"
            ]
          },
          "metadata": {},
          "execution_count": 60
        }
      ]
    },
    {
      "cell_type": "code",
      "source": [
        "plot_predictions(predictions = y_preds)"
      ],
      "metadata": {
        "colab": {
          "base_uri": "https://localhost:8080/",
          "height": 428
        },
        "id": "_RPyklaJJzLg",
        "outputId": "efa4b8a0-3ee9-4906-9ede-dedf8a01acef"
      },
      "execution_count": null,
      "outputs": [
        {
          "output_type": "display_data",
          "data": {
            "text/plain": [
              "<Figure size 720x504 with 1 Axes>"
            ],
            "image/png": "[encoded data removed]"
          },
          "metadata": {
            "needs_background": "light"
          }
        }
      ]
    },
    {
      "cell_type": "markdown",
      "source": [
        "## 3.Training the model\n",
        "\n",
        "The whole of idea of training is for a model to move from some **unknown** parameters (there may be random) for some known parameters Or in other words from a poor representation of the data to a better representation of the data\n",
        "\n",
        "One way to measure how poor or how wrong your models predictions are is to use loss function.\n",
        "\n",
        "* note: Loss function may also be called cost function or criterion in different areas. For our case, we're going to refer to it as a loss function.\n",
        "\n",
        "Things we need to train:\n",
        "\n",
        "**Loss function** : A function to measure how wrong your model prediction are to the ideal output, lower is better.\n",
        "\n",
        "**Optimizer:** Take into account the loss of a model and adjust the model's parameters (e.g. weight & bias in our case) to improve the loss function\n",
        "\n",
        "And specifically for PyTorch, we need:\n",
        "* A training loop\n",
        "* A testing loop\n"
      ],
      "metadata": {
        "id": "pMHvHT5ERUDp"
      }
    },
    {
      "cell_type": "code",
      "source": [
        "model_0.state_dict()"
      ],
      "metadata": {
        "colab": {
          "base_uri": "https://localhost:8080/"
        },
        "id": "LCaNqQw8RUAQ",
        "outputId": "4ae7fd79-b97d-4277-fb05-22f50b938bed"
      },
      "execution_count": null,
      "outputs": [
        {
          "output_type": "execute_result",
          "data": {
            "text/plain": [
              "OrderedDict([('weight', tensor([0.4976])), ('bias', tensor([0.0230]))])"
            ]
          },
          "metadata": {},
          "execution_count": 62
        }
      ]
    },
    {
      "cell_type": "markdown",
      "source": [
        "Q: Which loss function and optimizer should I use?\n",
        "\n",
        "A: for a regression problem, a loss function of nn.L1Loss() and an optimizer like torch.optim.SGD() wil suffice.\n",
        "For a classification problem, you would like to use a loss function of nn.BCELoss() (binary cross entropy loss)."
      ],
      "metadata": {
        "id": "JO7Gf9FmRHk1"
      }
    },
    {
      "cell_type": "code",
      "source": [],
      "metadata": {
        "id": "6BpVz0TURG_U"
      },
      "execution_count": null,
      "outputs": []
    },
    {
      "cell_type": "code",
      "source": [
        "# Setup a loss function\n",
        "loss_fn = nn.L1Loss()\n",
        "\n",
        "#Setup an optimizer (stochastic gradient descent)\n",
        "optimizer = torch.optim.SGD(params= model_0.parameters(),\n",
        "                             lr=0.01) #lr = learning rate = possibly the most important hyperparameter you can set"
      ],
      "metadata": {
        "id": "c__XBGRSRT9A"
      },
      "execution_count": null,
      "outputs": []
    },
    {
      "cell_type": "markdown",
      "source": [
        "## Building a training loop (and a testing loop) in PyTorch.\n",
        "A couple of things we need in a training loop:\n",
        "0. Loop through the data\n",
        "1. foward pass (this involves data moving through our model's forward() function) to make prediction on data. -  also called forward propagation\n",
        "2. calculate the loss (compare forward pass predictions to ground truth labels)\n",
        "3.  Optimizer zero grad\n",
        "4.  Loss backward - move backwards through the network to calculate the gradients of each of the parameters of our model with respect to the loss (**back propagation**)\n",
        "5. Optimizer step - use the optimizer to adjust our model's parameters to try and improve the loss (**grandient descent**)"
      ],
      "metadata": {
        "id": "eAUugh4-RT5x"
      }
    },
    {
      "cell_type": "code",
      "source": [
        "# Annepoch is one loop through the data\n",
        "epochs = 100\n",
        "epoch_count = []\n",
        "loss_value = []\n",
        "test_loss_value = []\n",
        "### Training\n",
        "# 0.Loop through the data\n",
        "for epoch in range(epochs):\n",
        "  # Set the model yo training mode\n",
        "  model_0.train() # train mode in PyTorch sets all parameters that require gradients to require gradient\n",
        "  \n",
        "  # 1. Forward pass\n",
        "  y_pred = model_0(X_train)\n",
        "\n",
        "  #2. Calculate the loss\n",
        "  loss = loss_fn(y_pred,y_train)\n",
        "\n",
        "  #3. Optimizer zero grad\n",
        "  optimizer.zero_grad()\n",
        "\n",
        "  #4. perform backpropagation on the loss with respect to the parameters of the model\n",
        "  loss.backward()\n",
        "\n",
        "  #5. step the optimizer (perform Gradient Descent)\n",
        "  optimizer.step() #by default how the optimizer changed will accumulate through the loop so we have to zero them above in step 3 for the next iteration of the loop\n",
        "\n",
        "  #Testing\n",
        "  model_0.eval()  # turns off different setting in the model not needed for evaluation/testing (Drop out norm layers)\n",
        "\n",
        "  with torch.inference_mode(): #turns off gradient tracking & a couple more things behind\n",
        "    #1. Do forward pass\n",
        "    test_pred = model_0(X_test)\n",
        "    #2. Calculate the loss\n",
        "    test_loss = loss_fn(test_pred, y_test)\n",
        "  #Print out what's happen\n",
        "  if epoch % 10 ==0:\n",
        "    epoch_count.append(epoch)\n",
        "    loss_value.append(loss)\n",
        "    test_loss_value.append(test_loss)\n",
        "    print(f\"Epoch:{epoch} | Loss: {loss} | Test_loss:{test_loss}\")"
      ],
      "metadata": {
        "colab": {
          "base_uri": "https://localhost:8080/"
        },
        "id": "lpT-o0LkRT3H",
        "outputId": "87b52310-5576-47e0-8247-3eac018c07f0"
      },
      "execution_count": null,
      "outputs": [
        {
          "output_type": "stream",
          "name": "stdout",
          "text": [
            "Epoch:0 | Loss: 0.35592931509017944 | Test_loss:0.44364792108535767\n",
            "Epoch:10 | Loss: 0.24071936309337616 | Test_loss:0.30893799662590027\n",
            "Epoch:20 | Loss: 0.1255093514919281 | Test_loss:0.1742280274629593\n",
            "Epoch:30 | Loss: 0.02035144902765751 | Test_loss:0.05020340159535408\n",
            "Epoch:40 | Loss: 0.012691833078861237 | Test_loss:0.02860241010785103\n",
            "Epoch:50 | Loss: 0.00926218368113041 | Test_loss:0.021016757935285568\n",
            "Epoch:60 | Loss: 0.005827019456773996 | Test_loss:0.012744218111038208\n",
            "Epoch:70 | Loss: 0.002388693392276764 | Test_loss:0.005158555693924427\n",
            "Epoch:80 | Loss: 0.004423562437295914 | Test_loss:0.011067062616348267\n",
            "Epoch:90 | Loss: 0.004423562437295914 | Test_loss:0.011067062616348267\n"
          ]
        }
      ]
    },
    {
      "cell_type": "code",
      "source": [
        "model_0.state_dict()"
      ],
      "metadata": {
        "colab": {
          "base_uri": "https://localhost:8080/"
        },
        "id": "P6z6DMx1OlAC",
        "outputId": "6833c18d-b400-4371-81c3-b2c836b26e2a"
      },
      "execution_count": null,
      "outputs": [
        {
          "output_type": "execute_result",
          "data": {
            "text/plain": [
              "OrderedDict([('weight', tensor([0.6960])), ('bias', tensor([0.3060]))])"
            ]
          },
          "metadata": {},
          "execution_count": 65
        }
      ]
    },
    {
      "cell_type": "code",
      "source": [
        "model_0.state_dict()"
      ],
      "metadata": {
        "colab": {
          "base_uri": "https://localhost:8080/"
        },
        "id": "Hvw7MUv9RT0K",
        "outputId": "60896a9a-67b5-4259-e8db-e9d01decba52"
      },
      "execution_count": null,
      "outputs": [
        {
          "output_type": "execute_result",
          "data": {
            "text/plain": [
              "OrderedDict([('weight', tensor([0.6960])), ('bias', tensor([0.3060]))])"
            ]
          },
          "metadata": {},
          "execution_count": 66
        }
      ]
    },
    {
      "cell_type": "code",
      "source": [
        "with torch.inference_mode():\n",
        "  y_preds_new = model_0(X_test)"
      ],
      "metadata": {
        "id": "QnKVZuLfRTw4"
      },
      "execution_count": null,
      "outputs": []
    },
    {
      "cell_type": "code",
      "source": [
        "plot_predictions(predictions=y_preds)\n",
        "plot_predictions(predictions=y_preds_new)"
      ],
      "metadata": {
        "colab": {
          "base_uri": "https://localhost:8080/",
          "height": 839
        },
        "id": "Dan1ZYyNRTtp",
        "outputId": "7f798f9f-16c5-4421-8414-6a829b24325b"
      },
      "execution_count": null,
      "outputs": [
        {
          "output_type": "display_data",
          "data": {
            "text/plain": [
              "<Figure size 720x504 with 1 Axes>"
            ],
            "image/png": "[encoded data removed]"
          },
          "metadata": {
            "needs_background": "light"
          }
        },
        {
          "output_type": "display_data",
          "data": {
            "text/plain": [
              "<Figure size 720x504 with 1 Axes>"
            ],
            "image/png": "[encoded data removed]"
          },
          "metadata": {
            "needs_background": "light"
          }
        }
      ]
    },
    {
      "cell_type": "code",
      "source": [
        "import numpy as np\n",
        "#Plot the loss curves\n",
        "plt.plot(epoch_count,np.array(torch.tensor(loss_value).cpu().numpy()),label=\"train loss\")\n",
        "plt.plot(epoch_count,test_loss_value,label=\"Test loss\")\n",
        "plt.title(\"Training and test loss function\")\n",
        "plt.ylabel(\"Loss\")\n",
        "plt.xlabel(\"Epochs\")\n",
        "plt.legend()"
      ],
      "metadata": {
        "colab": {
          "base_uri": "https://localhost:8080/",
          "height": 313
        },
        "id": "ZaMk3hWUKl_w",
        "outputId": "db1f4bdb-37ac-4c72-8ef3-4baf0d97833f"
      },
      "execution_count": null,
      "outputs": [
        {
          "output_type": "execute_result",
          "data": {
            "text/plain": [
              "<matplotlib.legend.Legend at 0x7fc45df6a130>"
            ]
          },
          "metadata": {},
          "execution_count": 70
        },
        {
          "output_type": "display_data",
          "data": {
            "text/plain": [
              "<Figure size 432x288 with 1 Axes>"
            ],
            "image/png": "[encoded data removed]"
          },
          "metadata": {
            "needs_background": "light"
          }
        }
      ]
    },
    {
      "cell_type": "markdown",
      "source": [
        "# Saving a model in PyTorch\n",
        "\n",
        "There are three methods you should know:\n",
        "\n",
        "1. 'torch.save()' - allows you save a PyTorch object in Python's pickle format\n",
        "2. 'torch.load()' - allows you load a saved PyTorch object\n",
        "3. 'torch.nn.Module.load_state_dic()' - this allows to load a model's saved sate dictionary"
      ],
      "metadata": {
        "id": "VgDgp3uZXS_i"
      }
    },
    {
      "cell_type": "code",
      "source": [
        "model_0.state_dict()"
      ],
      "metadata": {
        "colab": {
          "base_uri": "https://localhost:8080/"
        },
        "id": "-DN6UuJ3fagu",
        "outputId": "663165fd-151b-45b0-9907-d747a262572d"
      },
      "execution_count": null,
      "outputs": [
        {
          "output_type": "execute_result",
          "data": {
            "text/plain": [
              "OrderedDict([('weight', tensor([0.6960])), ('bias', tensor([0.3060]))])"
            ]
          },
          "metadata": {},
          "execution_count": 71
        }
      ]
    },
    {
      "cell_type": "code",
      "source": [
        "!pip install pathlib"
      ],
      "metadata": {
        "colab": {
          "base_uri": "https://localhost:8080/"
        },
        "id": "SGXTm6JyiNk7",
        "outputId": "4dded5fc-06b0-47ef-8bae-63658803387c"
      },
      "execution_count": null,
      "outputs": [
        {
          "output_type": "stream",
          "name": "stdout",
          "text": [
            "Looking in indexes: https://pypi.org/simple, https://us-python.pkg.dev/colab-wheels/public/simple/\n",
            "Requirement already satisfied: pathlib in /usr/local/lib/python3.8/dist-packages (1.0.1)\n"
          ]
        }
      ]
    },
    {
      "cell_type": "code",
      "source": [
        "# Save our pytorch model\n",
        "from pathlib import Path"
      ],
      "metadata": {
        "id": "huvJqodwgONQ"
      },
      "execution_count": null,
      "outputs": []
    },
    {
      "cell_type": "code",
      "source": [
        "# 1. Create models directory\n",
        "MODEL_PATH =  Path('models')\n",
        "MODEL_PATH.mkdir(parents=True, exist_ok=True)\n",
        "\n",
        "#2. Create model save path\n",
        "MODEL_NAME = \"01_pytorch_workflow_model_0.pth\"\n",
        "MODEL_SAVE_PATH = MODEL_PATH / MODEL_NAME\n",
        "\n",
        "MODEL_SAVE_PATH"
      ],
      "metadata": {
        "colab": {
          "base_uri": "https://localhost:8080/"
        },
        "id": "6aEcWKw3iDdG",
        "outputId": "3a05b923-5bf3-4bf9-a55c-bc1e4636e62c"
      },
      "execution_count": null,
      "outputs": [
        {
          "output_type": "execute_result",
          "data": {
            "text/plain": [
              "PosixPath('models/01_pytorch_workflow_model_0.pth')"
            ]
          },
          "metadata": {},
          "execution_count": 76
        }
      ]
    },
    {
      "cell_type": "code",
      "source": [
        "# 3. Save the model state dictionary\n",
        "print(f\"Saving model to :{MODEL_SAVE_PATH}\")\n",
        "torch.save(obj=model_0.state_dict(),\n",
        "           f=MODEL_SAVE_PATH)"
      ],
      "metadata": {
        "colab": {
          "base_uri": "https://localhost:8080/"
        },
        "id": "FJqwvomJjBaD",
        "outputId": "c2a78e10-2c23-4ff6-c1f2-5a4830825b5f"
      },
      "execution_count": null,
      "outputs": [
        {
          "output_type": "stream",
          "name": "stdout",
          "text": [
            "Saving model to :models/01_pytorch_workflow_model_0.pth\n"
          ]
        }
      ]
    },
    {
      "cell_type": "code",
      "source": [
        "!ls -l models"
      ],
      "metadata": {
        "colab": {
          "base_uri": "https://localhost:8080/"
        },
        "id": "W8VV1WSJj4Le",
        "outputId": "5f774f70-af29-4cb9-ea4f-109df2ddbfbc"
      },
      "execution_count": null,
      "outputs": [
        {
          "output_type": "stream",
          "name": "stdout",
          "text": [
            "total 4\n",
            "-rw-r--r-- 1 root root 1207 Jan 11 16:00 01_pytorch_workflow_model_0.pth\n"
          ]
        }
      ]
    },
    {
      "cell_type": "markdown",
      "source": [
        "## Load a model"
      ],
      "metadata": {
        "id": "KAUKG-x7rkiv"
      }
    },
    {
      "cell_type": "code",
      "source": [
        "# To load in a saved state_dict we have to instantiate a new instance of our model class\n",
        "loaded_model_0 = LinearRegressionModel()\n",
        "\n",
        "# Load the saved state_dic of model_0( this will update the new instance with updated parameters)\n",
        "loaded_model_0.load_state_dict(torch.load(f=MODEL_SAVE_PATH))\n",
        "\n",
        "loaded_model_0.state_dict()"
      ],
      "metadata": {
        "colab": {
          "base_uri": "https://localhost:8080/"
        },
        "id": "DHhBw5JDyMMh",
        "outputId": "7dbce933-32d7-4cb9-a439-44fa4bd6d125"
      },
      "execution_count": null,
      "outputs": [
        {
          "output_type": "execute_result",
          "data": {
            "text/plain": [
              "OrderedDict([('weight', tensor([0.6960])), ('bias', tensor([0.3060]))])"
            ]
          },
          "metadata": {},
          "execution_count": 80
        }
      ]
    },
    {
      "cell_type": "code",
      "source": [
        "# Make some prediction with our loaded model\n",
        "loaded_model_0.eval()\n",
        "with torch.inference_mode():\n",
        "  loaded_model_preds =loaded_model_0(X_test)\n",
        "loaded_model_preds"
      ],
      "metadata": {
        "colab": {
          "base_uri": "https://localhost:8080/"
        },
        "id": "eivBFfilyMCs",
        "outputId": "ba1aa6eb-8de8-439c-bcde-e99af328996e"
      },
      "execution_count": null,
      "outputs": [
        {
          "output_type": "execute_result",
          "data": {
            "text/plain": [
              "tensor([[0.8628],\n",
              "        [0.8767],\n",
              "        [0.8906],\n",
              "        [0.9045],\n",
              "        [0.9184],\n",
              "        [0.9324],\n",
              "        [0.9463],\n",
              "        [0.9602],\n",
              "        [0.9741],\n",
              "        [0.9880]])"
            ]
          },
          "metadata": {},
          "execution_count": 81
        }
      ]
    },
    {
      "cell_type": "code",
      "source": [
        "#Make some models preds\n",
        "model_0.eval()\n",
        "with torch.inference_mode():\n",
        "  y_preds = model_0(X_test)"
      ],
      "metadata": {
        "id": "_2tp0cWL0Al2"
      },
      "execution_count": null,
      "outputs": []
    },
    {
      "cell_type": "code",
      "source": [
        "#Compare loaded mdoel preds with original model preds\n",
        "y_preds == loaded_model_preds"
      ],
      "metadata": {
        "colab": {
          "base_uri": "https://localhost:8080/"
        },
        "id": "eNauuaDDzuCy",
        "outputId": "b76c10b3-6610-41f3-aa4c-e90da4be49b6"
      },
      "execution_count": null,
      "outputs": [
        {
          "output_type": "execute_result",
          "data": {
            "text/plain": [
              "tensor([[True],\n",
              "        [True],\n",
              "        [True],\n",
              "        [True],\n",
              "        [True],\n",
              "        [True],\n",
              "        [True],\n",
              "        [True],\n",
              "        [True],\n",
              "        [True]])"
            ]
          },
          "metadata": {},
          "execution_count": 84
        }
      ]
    },
    {
      "cell_type": "code",
      "source": [],
      "metadata": {
        "id": "k06AXj3zz2SQ"
      },
      "execution_count": null,
      "outputs": []
    }
  ]
}